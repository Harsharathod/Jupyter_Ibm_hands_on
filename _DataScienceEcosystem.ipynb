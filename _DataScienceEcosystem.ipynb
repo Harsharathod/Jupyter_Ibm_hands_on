{
 "cells": [
  {
   "cell_type": "markdown",
   "id": "dc93eb6d-5e8b-4b0b-a16f-2139369c5303",
   "metadata": {},
   "source": [
    "# Data Science Tools and Ecosystem"
   ]
  },
  {
   "cell_type": "markdown",
   "id": "585deaeb-0382-48ef-bb9f-b31f91d00c8d",
   "metadata": {},
   "source": [
    "In this notebook, Data Science Tools and Ecosystem are summarized.\n"
   ]
  },
  {
   "cell_type": "markdown",
   "id": "7a75986b-274d-4d2b-a5a0-3160b6cfea77",
   "metadata": {},
   "source": [
    "**Objectives:**\n",
    "\n",
    "\n",
    "- Data Exploration: Analyzing and understanding data to uncover patterns, trends, and insights.\n",
    "\n",
    "- Predictive Modeling: Building and deploying machine learning models for forecasting and decision-making.\n",
    "\n",
    "- Data Cleaning and Preparation: Ensuring data quality and transforming raw data into a usable format.\n",
    "\n",
    "- Data Visualization: Communicating findings and results through graphical representations.\n",
    "\n",
    "- Business Insights: Providing actionable recommendations and insights to support informed business decisions.\n"
   ]
  },
  {
   "cell_type": "markdown",
   "id": "57a0081b-9e28-4a81-b72a-0876975f8bbb",
   "metadata": {
    "tags": []
   },
   "source": [
    "### Some of the popular languages that Data Scientists use are:\n",
    "\n",
    "- python\n",
    "- R\n",
    "- sql "
   ]
  },
  {
   "cell_type": "markdown",
   "id": "8a7f6c45-fcd1-4d02-83ba-2474d1f56dd6",
   "metadata": {},
   "source": [
    "### Some of the commonly used libraries used by Data Scientists include:\n",
    "* Numpy\n",
    "* Tensorflow\n",
    "* Scipy"
   ]
  },
  {
   "cell_type": "markdown",
   "id": "bd277f9f-1f02-492b-b3ea-53878e83c638",
   "metadata": {},
   "source": [
    "|Data Science Tools|\n",
    "|------------------|\n",
    "|apache|\n",
    "|matlab|\n",
    "|sas|"
   ]
  },
  {
   "cell_type": "markdown",
   "id": "75a1bc07-b133-4ac9-a08c-1eda2348489f",
   "metadata": {},
   "source": [
    "### Below are a few examples of evaluating arithmetic expressions in Python.\n"
   ]
  },
  {
   "cell_type": "code",
   "execution_count": 4,
   "id": "499d60c3-d0e6-4cf2-b9bf-d6ca9f72d12a",
   "metadata": {
    "tags": []
   },
   "outputs": [
    {
     "data": {
      "text/plain": [
       "17"
      ]
     },
     "execution_count": 4,
     "metadata": {},
     "output_type": "execute_result"
    }
   ],
   "source": [
    "# This a simple arithmetic expression to mutiply then add integers\n",
    "\n",
    "\n",
    "(3*4)+5"
   ]
  },
  {
   "cell_type": "code",
   "execution_count": 7,
   "id": "59875bb5-53a2-46bd-bad0-addda6a3144f",
   "metadata": {
    "tags": []
   },
   "outputs": [
    {
     "name": "stdout",
     "output_type": "stream",
     "text": [
      "3\n"
     ]
    }
   ],
   "source": [
    "#  This will convert 200 minutes to hours by diving by 60\n",
    "\n",
    "minutes = 200\n",
    "hours = minutes / 60\n",
    "print(int(hours))"
   ]
  },
  {
   "cell_type": "markdown",
   "id": "e3fc5655-e531-44a7-a1d7-bc69aa696447",
   "metadata": {},
   "source": [
    "## AUTHOR \n",
    "HARSHA RATHOD"
   ]
  },
  {
   "cell_type": "code",
   "execution_count": null,
   "id": "c2e1216e-05b8-4fb5-bfaa-4584b0a22e48",
   "metadata": {},
   "outputs": [],
   "source": []
  }
 ],
 "metadata": {
  "kernelspec": {
   "display_name": "Python",
   "language": "python",
   "name": "conda-env-python-py"
  },
  "language_info": {
   "codemirror_mode": {
    "name": "ipython",
    "version": 3
   },
   "file_extension": ".py",
   "mimetype": "text/x-python",
   "name": "python",
   "nbconvert_exporter": "python",
   "pygments_lexer": "ipython3",
   "version": "3.7.12"
  }
 },
 "nbformat": 4,
 "nbformat_minor": 5
}
